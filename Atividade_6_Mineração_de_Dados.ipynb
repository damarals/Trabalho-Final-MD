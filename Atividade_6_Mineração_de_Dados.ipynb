{
 "cells": [
  {
   "cell_type": "code",
   "execution_count": 1,
   "metadata": {
    "colab": {},
    "colab_type": "code",
    "id": "apkgqXvpU-aS"
   },
   "outputs": [],
   "source": [
    "## Atividade 6 - Trabalho Final de Mineração de Dados\n",
    "## Daniel de Amaral da Silva\n",
    "## Matricula: 385802"
   ]
  },
  {
   "cell_type": "code",
   "execution_count": 2,
   "metadata": {
    "colab": {},
    "colab_type": "code",
    "id": "1LEm7oNDV0Xr"
   },
   "outputs": [
    {
     "name": "stderr",
     "output_type": "stream",
     "text": [
      "Using TensorFlow backend.\n"
     ]
    }
   ],
   "source": [
    "from keras.datasets import mnist\n",
    "from sklearn.neighbors import KNeighborsClassifier\n",
    "from sklearn.metrics import accuracy_score, confusion_matrix\n",
    "from sklearn.model_selection import train_test_split\n",
    "import time\n",
    "import numpy as np\n",
    "import matplotlib.pyplot as plt"
   ]
  },
  {
   "cell_type": "code",
   "execution_count": 3,
   "metadata": {
    "colab": {},
    "colab_type": "code",
    "id": "4SEKAJTrVJMg"
   },
   "outputs": [],
   "source": [
    "(observacoes, classe), (teste, classeTeste) = mnist.load_data()"
   ]
  },
  {
   "cell_type": "code",
   "execution_count": 4,
   "metadata": {
    "colab": {},
    "colab_type": "code",
    "id": "loV2uwMCV4r3"
   },
   "outputs": [],
   "source": [
    "data = np.row_stack((observacoes, teste))\n",
    "label = np.concatenate((classe, classeTeste))"
   ]
  },
  {
   "cell_type": "code",
   "execution_count": 5,
   "metadata": {
    "colab": {},
    "colab_type": "code",
    "id": "gWdbX0eaWphb"
   },
   "outputs": [],
   "source": [
    "image_size = data.shape[1]\n",
    "input_size = image_size * image_size\n",
    "\n",
    "# resize and normalize\n",
    "data = np.reshape(data, [-1, input_size])\n",
    "data = data.astype('float32') / 255"
   ]
  },
  {
   "cell_type": "code",
   "execution_count": 6,
   "metadata": {
    "colab": {},
    "colab_type": "code",
    "id": "6xHA9oS9JnDW"
   },
   "outputs": [],
   "source": [
    "# train, test\n",
    "observacoes, teste, classe, classeTeste = train_test_split(data, label, test_size = 1/3)"
   ]
  },
  {
   "cell_type": "code",
   "execution_count": 7,
   "metadata": {
    "colab": {},
    "colab_type": "code",
    "id": "QhImdZbtlL_9"
   },
   "outputs": [],
   "source": [
    "# função para substituir por -1 algumas labels de forma estratificada\n",
    "def unlabel_data(data, label):\n",
    "  data1, data2, label1, label2 = train_test_split(data, label, test_size = 1/2)\n",
    "  label2 = -np.ones(len(label2))\n",
    "  return np.row_stack((data1, data2)), np.concatenate((label1, label2))"
   ]
  },
  {
   "cell_type": "code",
   "execution_count": 8,
   "metadata": {
    "colab": {},
    "colab_type": "code",
    "id": "58pZ3bqvVxrH"
   },
   "outputs": [],
   "source": [
    "# substituindo por -1 na classe\n",
    "observacoes, classe = unlabel_data(observacoes, classe)"
   ]
  },
  {
   "cell_type": "code",
   "execution_count": 9,
   "metadata": {
    "colab": {},
    "colab_type": "code",
    "id": "cUTtN3gMnyqn"
   },
   "outputs": [],
   "source": [
    "# Classificador foco da atividade 6\n",
    "class ClassificadorSemiSuper:\n",
    "  \n",
    "  def __init__(self, classificador, k):\n",
    "    self.clf = classificador\n",
    "    self.k = k\n",
    "    \n",
    "  def fit(self, observacoes, classe):\n",
    "    mask = classe == -1\n",
    "    obs_unl = observacoes[mask]\n",
    "    class_unl = classe[mask]\n",
    "    obs_l = observacoes[~mask]\n",
    "    class_l = classe[~mask]\n",
    "    \n",
    "    x_train = obs_l\n",
    "    y_train = class_l\n",
    "    for obs in np.arange(0, obs_unl.shape[0], self.k):\n",
    "      x_test = obs_unl[obs:obs+self.k,:]\n",
    "      self.clf.fit(x_train, y_train)\n",
    "      y_pred = self.clf.predict(x_test)\n",
    "      x_train = np.row_stack((x_train, x_test))\n",
    "      y_train = np.concatenate((y_train, y_pred))\n",
    "    \n",
    "    self.clf.fit(x_train, y_train)\n",
    "  \n",
    "  \n",
    "  def score(self, teste, classeTeste):\n",
    "    return accuracy_score(classeTeste, self.clf.predict(teste))"
   ]
  },
  {
   "cell_type": "code",
   "execution_count": 10,
   "metadata": {
    "colab": {},
    "colab_type": "code",
    "id": "WGRCkImkO_k-"
   },
   "outputs": [],
   "source": [
    "clf = KNeighborsClassifier(n_neighbors = 3)"
   ]
  },
  {
   "cell_type": "code",
   "execution_count": 11,
   "metadata": {
    "colab": {},
    "colab_type": "code",
    "id": "N3QG2JirPJwf"
   },
   "outputs": [],
   "source": [
    "classificadorSS = ClassificadorSemiSuper(clf, 1000)"
   ]
  },
  {
   "cell_type": "code",
   "execution_count": 12,
   "metadata": {
    "colab": {},
    "colab_type": "code",
    "id": "1AxpXaP1PY5A"
   },
   "outputs": [],
   "source": [
    "classificadorSS.fit(observacoes, classe)"
   ]
  },
  {
   "cell_type": "code",
   "execution_count": 13,
   "metadata": {
    "colab": {
     "base_uri": "https://localhost:8080/",
     "height": 35
    },
    "colab_type": "code",
    "id": "tR80UXKgQUKf",
    "outputId": "5eba61a4-9fe2-4bfd-a3b4-e70e0cc2b321"
   },
   "outputs": [
    {
     "data": {
      "text/plain": [
       "0.9664438158909745"
      ]
     },
     "execution_count": 13,
     "metadata": {},
     "output_type": "execute_result"
    }
   ],
   "source": [
    "classificadorSS.score(teste, classeTeste)"
   ]
  },
  {
   "cell_type": "code",
   "execution_count": 14,
   "metadata": {
    "colab": {},
    "colab_type": "code",
    "id": "ZvhpGPwNR6d9"
   },
   "outputs": [],
   "source": [
    "def hyperparm_experimenter(clf, range_k, observacoes, classe, teste, classeTeste):\n",
    "  acc_history = []\n",
    "  time_history = []\n",
    "  for k in range_k:\n",
    "    classificadorSS = ClassificadorSemiSuper(clf, k)\n",
    "    \n",
    "    start_time = time.time()\n",
    "    classificadorSS.fit(observacoes, classe)\n",
    "    time_history.append(time.time() - start_time)\n",
    "    acc = round(classificadorSS.score(teste, classeTeste), 4)\n",
    "    acc_history.append(acc)\n",
    "    print(f'Valor de k: {k}, Acurácia: {acc}')\n",
    "  \n",
    "  plt.plot(range_k, acc_history)\n",
    "  plt.title('Acurácia pelo tamanho do lote k')\n",
    "  plt.ylabel('acurácia')\n",
    "  plt.xlabel('k')\n",
    "  plt.show()\n",
    "  \n",
    "  plt.plot(range_k, time_history)\n",
    "  plt.title('Tempo de processamento pelo tamanho do lote k')\n",
    "  plt.ylabel('tempo em segundos')\n",
    "  plt.xlabel('k')\n",
    "  plt.show()"
   ]
  },
  {
   "cell_type": "code",
   "execution_count": 15,
   "metadata": {
    "colab": {},
    "colab_type": "code",
    "id": "oNJ1rnMJTD2V"
   },
   "outputs": [
    {
     "name": "stdout",
     "output_type": "stream",
     "text": [
      "Valor de k: 500, Acurácia: 0.9664\n",
      "Valor de k: 700, Acurácia: 0.9665\n",
      "Valor de k: 900, Acurácia: 0.9664\n",
      "Valor de k: 1000, Acurácia: 0.9664\n",
      "Valor de k: 2000, Acurácia: 0.9664\n",
      "Valor de k: 3000, Acurácia: 0.9665\n",
      "Valor de k: 5000, Acurácia: 0.9668\n",
      "Valor de k: 10000, Acurácia: 0.9664\n",
      "Valor de k: 14000, Acurácia: 0.9664\n",
      "Valor de k: 17000, Acurácia: 0.9665\n",
      "Valor de k: 20000, Acurácia: 0.9667\n"
     ]
    },
    {
     "data": {
      "image/png": "[encoded data removed]",
      "text/plain": [
       "<Figure size 432x288 with 1 Axes>"
      ]
     },
     "metadata": {
      "needs_background": "light"
     },
     "output_type": "display_data"
    },
    {
     "data": {
      "image/png": "[encoded data removed]",
      "text/plain": [
       "<Figure size 432x288 with 1 Axes>"
      ]
     },
     "metadata": {
      "needs_background": "light"
     },
     "output_type": "display_data"
    }
   ],
   "source": [
    "hyperparm_experimenter(clf, [500, 700, 900, 1000, 2000, 3000, 5000, 10000, 14000, 17000, 20000], observacoes, classe, teste, classeTeste)"
   ]
  }
 ],
 "metadata": {
  "colab": {
   "collapsed_sections": [],
   "name": "Atividade 6 - Mineração de Dados.ipynb",
   "provenance": [],
   "version": "0.3.2"
  },
  "kernelspec": {
   "display_name": "Python 3",
   "language": "python",
   "name": "python3"
  },
  "language_info": {
   "codemirror_mode": {
    "name": "ipython",
    "version": 3
   },
   "file_extension": ".py",
   "mimetype": "text/x-python",
   "name": "python",
   "nbconvert_exporter": "python",
   "pygments_lexer": "ipython3",
   "version": "3.6.8"
  }
 },
 "nbformat": 4,
 "nbformat_minor": 2
}
